{
 "cells": [
  {
   "cell_type": "code",
   "execution_count": 1,
   "metadata": {},
   "outputs": [],
   "source": [
    "import torch\n",
    "import random\n",
    "import glob\n",
    "import cv2\n",
    "from PIL import Image, ImageDraw, ImageFont\n",
    "from torchvision import datasets, transforms\n",
    "import numpy as np\n",
    "from matplotlib import pyplot as plt\n",
    "import torchvision\n",
    "import torchvision.datasets as datasets"
   ]
  },
  {
   "attachments": {},
   "cell_type": "markdown",
   "metadata": {},
   "source": [
    "# Create own Dataset with digital digits"
   ]
  },
  {
   "cell_type": "code",
   "execution_count": 2,
   "metadata": {},
   "outputs": [],
   "source": [
    "class DigitalDigits(torch.utils.data.Dataset):\n",
    "    def __init__(self):\n",
    "        self.fonts = glob.glob(\"fonts/*.ttf\")\n",
    "        self.fonts_dict = {}\n",
    "        self.digits_ = [None] * 60000\n",
    "        self.generate_all()\n",
    "\n",
    "    def __getitem__(self, index):\n",
    "        return self.digits_[index]\n",
    "    \n",
    "    def __len__(self):\n",
    "        return 60000\n",
    "\n",
    "    def generate_all(self):\n",
    "        for p in range(60000):\n",
    "            self.digits_[p] = self.generate_digit()\n",
    "\n",
    "    def generate_digit(self):\n",
    "        digit = random.randint(0, 9)\n",
    "        data = self.generate_pil(digit)\n",
    "        return data, digit\n",
    "\n",
    "    def generate_pil(self, digit: int):\n",
    "        text = str(digit)\n",
    "        area_size = 2*28\n",
    "        img = Image.new(\"L\", (area_size, area_size), (0,))\n",
    "        draw = ImageDraw.Draw(img)\n",
    "        font_name = random.choice(self.fonts)\n",
    "        font_size = 40\n",
    "        font_key = f\"{font_name}-{font_size}\"\n",
    "        if font_key not in self.fonts_dict:\n",
    "            self.fonts_dict[font_key] = ImageFont.truetype(font_name, font_size)\n",
    "        font = self.fonts_dict[font_key]\n",
    "        text_x = area_size//2 + random.randint(-5, 5)\n",
    "        text_y = area_size//2 - random.randint(-5, 5)\n",
    "        draw.text((text_x, text_y), text, (255,), font=font, anchor=\"mm\")\n",
    "        transform = transforms.Compose([transforms.Resize([28, 28]),\n",
    "                                        transforms.ToTensor()])\n",
    "        resized = transform(img)[0].unsqueeze(0)\n",
    "        return resized"
   ]
  },
  {
   "cell_type": "code",
   "execution_count": 3,
   "metadata": {},
   "outputs": [],
   "source": [
    "digital_dataset = DigitalDigits()\n",
    "data_loader_digital = torch.utils.data.DataLoader(digital_dataset,\n",
    "                                          batch_size=60000,\n",
    "                                          shuffle=True)"
   ]
  },
  {
   "cell_type": "code",
   "execution_count": 4,
   "metadata": {},
   "outputs": [],
   "source": [
    "mnist_trainset = datasets.MNIST(root='./data', train=True, download=True, transform=torchvision.transforms.Compose([transforms.ToTensor()]))\n",
    "\n",
    "data_loader_handwritten = torch.utils.data.DataLoader(mnist_trainset,\n",
    "                                          batch_size=60000,\n",
    "                                          shuffle=True)"
   ]
  },
  {
   "cell_type": "code",
   "execution_count": 5,
   "metadata": {},
   "outputs": [],
   "source": [
    "X_handwritten = None\n",
    "y_handwritten = None\n",
    "X_digital = None\n",
    "y_digital = None\n",
    "\n",
    "for i, (images, labels) in enumerate(data_loader_handwritten):\n",
    "    X_handwritten = images\n",
    "    y_handwritten = torch.from_numpy(np.zeros([60000, ]))\n",
    "\n",
    "for i, (images, labels) in enumerate(data_loader_digital):\n",
    "    X_digital = images\n",
    "    y_digital = torch.from_numpy(np.ones([60000, ]))"
   ]
  },
  {
   "cell_type": "code",
   "execution_count": 6,
   "metadata": {},
   "outputs": [],
   "source": [
    "X_full = torch.cat((X_handwritten, X_digital), dim=0)\n",
    "y_full = torch.cat((y_handwritten, y_digital), dim=0)"
   ]
  },
  {
   "attachments": {},
   "cell_type": "markdown",
   "metadata": {},
   "source": [
    "### Data Splitting"
   ]
  },
  {
   "cell_type": "code",
   "execution_count": 7,
   "metadata": {},
   "outputs": [],
   "source": [
    "from torch.utils.data import Dataset, DataLoader, random_split\n",
    "\n",
    "class CustomDataset(torch.utils.data.Dataset):\n",
    "    def __init__(self, X_tensors, y_tensors):\n",
    "        self.X = X_tensors\n",
    "        self.y = y_tensors\n",
    "\n",
    "    def __len__(self):\n",
    "        return len(self.X)\n",
    "\n",
    "    def __getitem__(self, idx):\n",
    "        return self.X[idx], self.y[idx]\n",
    "\n",
    "dataset = CustomDataset(X_full, y_full)\n",
    "\n",
    "train_size = int(0.64 * len(dataset))\n",
    "val_size = int(0.16 * len(dataset))\n",
    "test_size = len(dataset) - train_size -val_size\n",
    "train_dataset, val_dataset, test_dataset = random_split(dataset, [train_size, val_size, test_size])\n",
    "\n",
    "batch_size = 256\n",
    "train_dataloader = DataLoader(train_dataset, batch_size=batch_size, shuffle=True)\n",
    "val_dataloader = DataLoader(val_dataset, batch_size=batch_size, shuffle=True)\n",
    "test_dataloader = DataLoader(test_dataset, batch_size=batch_size, shuffle=True)\n"
   ]
  },
  {
   "cell_type": "code",
   "execution_count": 8,
   "metadata": {},
   "outputs": [
    {
     "name": "stdout",
     "output_type": "stream",
     "text": [
      "tensor(1., dtype=torch.float64)\n"
     ]
    },
    {
     "data": {
      "image/png": "[encoded data removed]",
      "text/plain": [
       "<Figure size 640x480 with 1 Axes>"
      ]
     },
     "metadata": {},
     "output_type": "display_data"
    }
   ],
   "source": [
    "for X_batch, y_batch in val_dataloader:\n",
    "    i = 10\n",
    "    plt.imshow(X_batch[i][0], cmap='gray')\n",
    "    print(y_batch[i])\n",
    "    break"
   ]
  },
  {
   "attachments": {},
   "cell_type": "markdown",
   "metadata": {},
   "source": [
    "# CNN Classifier Model"
   ]
  },
  {
   "cell_type": "code",
   "execution_count": 9,
   "metadata": {},
   "outputs": [
    {
     "data": {
      "text/plain": [
       "HandwrittenDetectionModel2(\n",
       "  (conv1): Sequential(\n",
       "    (0): Conv2d(1, 32, kernel_size=(3, 3), stride=(1, 1), padding=(1, 1))\n",
       "    (1): BatchNorm2d(32, eps=1e-05, momentum=0.1, affine=True, track_running_stats=True)\n",
       "    (2): ReLU()\n",
       "    (3): Dropout(p=0.5, inplace=False)\n",
       "  )\n",
       "  (conv2): Sequential(\n",
       "    (0): Conv2d(32, 64, kernel_size=(3, 3), stride=(1, 1), padding=(1, 1))\n",
       "    (1): BatchNorm2d(64, eps=1e-05, momentum=0.1, affine=True, track_running_stats=True)\n",
       "    (2): ReLU()\n",
       "    (3): MaxPool2d(kernel_size=2, stride=2, padding=0, dilation=1, ceil_mode=False)\n",
       "    (4): Dropout(p=0.5, inplace=False)\n",
       "  )\n",
       "  (linear): Sequential(\n",
       "    (0): Linear(in_features=12544, out_features=32, bias=True)\n",
       "    (1): BatchNorm1d(32, eps=1e-05, momentum=0.1, affine=True, track_running_stats=True)\n",
       "    (2): ReLU()\n",
       "    (3): Dropout(p=0.5, inplace=False)\n",
       "    (4): Linear(in_features=32, out_features=1, bias=True)\n",
       "    (5): Sigmoid()\n",
       "  )\n",
       ")"
      ]
     },
     "execution_count": 9,
     "metadata": {},
     "output_type": "execute_result"
    }
   ],
   "source": [
    "class HandwrittenDetectionModel2(torch.nn.Module):\n",
    "    def __init__(self):\n",
    "        super().__init__()\n",
    "        self.conv1 = torch.nn.Sequential(torch.nn.Conv2d(1, 32, kernel_size=(3, 3), stride=1, padding=1), torch.nn.BatchNorm2d(32), torch.nn.ReLU(), torch.nn.Dropout(0.5))\n",
    "        self.conv2 = torch.nn.Sequential(torch.nn.Conv2d(32, 64, kernel_size=(3, 3), stride=1, padding=1), torch.nn.BatchNorm2d(64), torch.nn.ReLU(), torch.nn.MaxPool2d(kernel_size=2, stride=2), torch.nn.Dropout(0.5))\n",
    "        self.linear = torch.nn.Sequential(torch.nn.Linear(64 * 14 * 14, 32), torch.nn.BatchNorm1d(32), torch.nn.ReLU(), torch.nn.Dropout(0.5), torch.nn.Linear(32, 1), torch.nn.Sigmoid())\n",
    "        \n",
    "    def forward(self, x):\n",
    "        x = self.conv1(x)\n",
    "        x = self.conv2(x)\n",
    "        out = self.linear(x.reshape(x.shape[0], -1))\n",
    "        return out\n",
    "\n",
    "model = HandwrittenDetectionModel2()\n",
    "model"
   ]
  },
  {
   "cell_type": "code",
   "execution_count": 10,
   "metadata": {},
   "outputs": [
    {
     "name": "stdout",
     "output_type": "stream",
     "text": [
      "tensor(1., dtype=torch.float64)\n"
     ]
    },
    {
     "data": {
      "image/png": "[encoded data removed]",
      "text/plain": [
       "<Figure size 640x480 with 1 Axes>"
      ]
     },
     "metadata": {},
     "output_type": "display_data"
    }
   ],
   "source": [
    "#testfunction\n",
    "for X_batch, y_batch in test_dataloader:\n",
    "    np_batch = X_batch.numpy()\n",
    "    for i in range(len(np_batch)):\n",
    "        np_batch[i][0] = cv2.threshold((np_batch[i][0] * 255).astype(np.uint8), 0, 255, cv2.THRESH_BINARY + cv2.THRESH_OTSU)[1]\n",
    "    thresh = torch.from_numpy(np_batch)\n",
    "    plt.imshow(thresh[10][0])\n",
    "    print(y_batch[10])\n",
    "    break"
   ]
  },
  {
   "cell_type": "code",
   "execution_count": 11,
   "metadata": {},
   "outputs": [
    {
     "data": {
      "text/plain": [
       "torch.Size([256, 1, 28, 28])"
      ]
     },
     "execution_count": 11,
     "metadata": {},
     "output_type": "execute_result"
    }
   ],
   "source": [
    "thresh.shape"
   ]
  },
  {
   "attachments": {},
   "cell_type": "markdown",
   "metadata": {},
   "source": [
    "# Load Model"
   ]
  },
  {
   "cell_type": "code",
   "execution_count": 12,
   "metadata": {},
   "outputs": [],
   "source": [
    "model = torch.load('models/model_dig_hw')"
   ]
  },
  {
   "cell_type": "code",
   "execution_count": 13,
   "metadata": {},
   "outputs": [
    {
     "data": {
      "text/plain": [
       "HandwrittenDetectionModel2(\n",
       "  (conv1): Sequential(\n",
       "    (0): Conv2d(1, 32, kernel_size=(3, 3), stride=(1, 1), padding=(1, 1))\n",
       "    (1): BatchNorm2d(32, eps=1e-05, momentum=0.1, affine=True, track_running_stats=True)\n",
       "    (2): ReLU()\n",
       "    (3): Dropout(p=0.5, inplace=False)\n",
       "  )\n",
       "  (conv2): Sequential(\n",
       "    (0): Conv2d(32, 64, kernel_size=(3, 3), stride=(1, 1), padding=(1, 1))\n",
       "    (1): BatchNorm2d(64, eps=1e-05, momentum=0.1, affine=True, track_running_stats=True)\n",
       "    (2): ReLU()\n",
       "    (3): MaxPool2d(kernel_size=2, stride=2, padding=0, dilation=1, ceil_mode=False)\n",
       "    (4): Dropout(p=0.5, inplace=False)\n",
       "  )\n",
       "  (linear): Sequential(\n",
       "    (0): Linear(in_features=12544, out_features=32, bias=True)\n",
       "    (1): BatchNorm1d(32, eps=1e-05, momentum=0.1, affine=True, track_running_stats=True)\n",
       "    (2): ReLU()\n",
       "    (3): Dropout(p=0.5, inplace=False)\n",
       "    (4): Linear(in_features=32, out_features=1, bias=True)\n",
       "    (5): Sigmoid()\n",
       "  )\n",
       ")"
      ]
     },
     "execution_count": 13,
     "metadata": {},
     "output_type": "execute_result"
    }
   ],
   "source": [
    "model"
   ]
  },
  {
   "cell_type": "code",
   "execution_count": 14,
   "metadata": {},
   "outputs": [],
   "source": [
    "def image_thresh(X_batch):\n",
    "    np_batch = X_batch.numpy()\n",
    "    for i in range(len(np_batch)):\n",
    "        np_batch[i][0] = cv2.threshold((np_batch[i][0] * 255).astype(np.uint8), 0, 255, cv2.THRESH_BINARY + cv2.THRESH_OTSU)[1]\n",
    "    return torch.from_numpy(np_batch / 255).float()"
   ]
  },
  {
   "attachments": {},
   "cell_type": "markdown",
   "metadata": {},
   "source": [
    "### Training"
   ]
  },
  {
   "cell_type": "code",
   "execution_count": null,
   "metadata": {},
   "outputs": [],
   "source": [
    "import torch\n",
    "import tqdm\n",
    "import torch.nn as nn\n",
    "import torch.optim as optim\n",
    " \n",
    "num_epochs = 1\n",
    "\n",
    "criterion = nn.BCELoss()\n",
    "optimizer = optim.Adam(model.parameters(), lr=0.001)\n",
    "\n",
    "for epoch in range(num_epochs):\n",
    "    # Train the model\n",
    "    model.train()\n",
    "    train_loss = 0.0\n",
    "    correct = 0\n",
    "    total = 0\n",
    "\n",
    "    for X, y in tqdm.tqdm(train_dataloader):\n",
    "        X = image_thresh(X)\n",
    "        outputs = model(X)\n",
    "\n",
    "        y = y.reshape(-1).float()\n",
    "        outputs = outputs.reshape(-1)\n",
    "        loss = criterion(outputs, y)\n",
    "        \n",
    "        optimizer.zero_grad()\n",
    "        loss.backward()\n",
    "        optimizer.step()\n",
    "\n",
    "        train_loss += loss.item()\n",
    "        total += y.size(0)\n",
    "        correct += (outputs.round() == y).sum()\n",
    "\n",
    "    train_loss /= len(train_dataloader)\n",
    "    train_acc = 100 * correct / total\n",
    "\n",
    "    model.eval()\n",
    "    val_loss = 0.0\n",
    "    correct = 0\n",
    "    total = 0\n",
    "\n",
    "    with torch.no_grad():\n",
    "        for X, y in val_dataloader:\n",
    "            X = image_thresh(X)\n",
    "            outputs = model(X)\n",
    "        \n",
    "            y = y.reshape(-1).float()\n",
    "            outputs = outputs.reshape(-1)\n",
    "            loss = criterion(outputs, y)\n",
    "\n",
    "            val_loss += loss.item()\n",
    "            total += y.size(0)\n",
    "            correct += (outputs.round() == y).sum()\n",
    " \n",
    "        val_loss /= len(val_dataloader)\n",
    "        val_acc = 100 * correct / total\n",
    "\n",
    "    print('Epoch [{}/{}], Train Loss: {:.4f}, Train Acc: {:.2f}%, Val Loss: {:.4f}, Val Acc: {:.2f}%'\n",
    "            .format(epoch+1, num_epochs, train_loss, train_acc, val_loss, val_acc))"
   ]
  },
  {
   "attachments": {},
   "cell_type": "markdown",
   "metadata": {},
   "source": [
    "## Evaluation on Testset"
   ]
  },
  {
   "cell_type": "code",
   "execution_count": null,
   "metadata": {},
   "outputs": [
    {
     "name": "stdout",
     "output_type": "stream",
     "text": [
      "Test Acc: 99.41%, Test Loss: 0.0157, Test Acc: 99.41%\n"
     ]
    }
   ],
   "source": [
    "model.eval()\n",
    "test_loss = 0.0\n",
    "correct = 0\n",
    "total = 0\n",
    "\n",
    "with torch.no_grad():\n",
    "    for X, y in test_dataloader:\n",
    "        X = image_thresh(X)\n",
    "        outputs = model(X)\n",
    "        \n",
    "        y = y.reshape(-1).float()\n",
    "        outputs = outputs.reshape(-1)\n",
    "        loss = criterion(outputs, y)\n",
    "\n",
    "        test_loss += loss.item()\n",
    "        total += y.size(0)\n",
    "\n",
    "        correct += (outputs.round() == y).sum()\n",
    "\n",
    "    test_loss /= len(test_dataloader)\n",
    "    test_acc = 100 * correct / total\n",
    "\n",
    "print('Test Acc: {:.2f}%, Test Loss: {:.4f}, Test Acc: {:.2f}%'\n",
    "        .format(test_acc, test_loss, test_acc))"
   ]
  },
  {
   "cell_type": "code",
   "execution_count": null,
   "metadata": {},
   "outputs": [],
   "source": [
    "#torch.save(model, 'models/model_dig_hw_2')"
   ]
  }
 ],
 "metadata": {
  "kernelspec": {
   "display_name": "api_example",
   "language": "python",
   "name": "python3"
  },
  "language_info": {
   "codemirror_mode": {
    "name": "ipython",
    "version": 3
   },
   "file_extension": ".py",
   "mimetype": "text/x-python",
   "name": "python",
   "nbconvert_exporter": "python",
   "pygments_lexer": "ipython3",
   "version": "3.10.0"
  },
  "orig_nbformat": 4
 },
 "nbformat": 4,
 "nbformat_minor": 2
}
